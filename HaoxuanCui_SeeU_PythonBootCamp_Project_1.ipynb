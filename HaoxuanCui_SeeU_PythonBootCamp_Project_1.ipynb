{
 "cells": [
  {
   "cell_type": "code",
   "execution_count": 1,
   "id": "b9ba6ae6",
   "metadata": {},
   "outputs": [
    {
     "name": "stdout",
     "output_type": "stream",
     "text": [
      "C:\\Users\\cuihaoxuan\\Documents\\SeeU\\Python Bootcamp\\2022 Python Bootcamp\n"
     ]
    }
   ],
   "source": [
    "%cd C:\\Users\\cuihaoxuan\\Documents\\SeeU\\Python Bootcamp\\2022 Python Bootcamp"
   ]
  },
  {
   "cell_type": "code",
   "execution_count": 2,
   "id": "682c1a9d",
   "metadata": {},
   "outputs": [
    {
     "name": "stdout",
     "output_type": "stream",
     "text": [
      "Requirement already satisfied: imbalanced-learn in c:\\users\\cuihaoxuan\\anaconda3\\lib\\site-packages (0.9.1)\n",
      "Requirement already satisfied: threadpoolctl>=2.0.0 in c:\\users\\cuihaoxuan\\anaconda3\\lib\\site-packages (from imbalanced-learn) (2.2.0)\n",
      "Requirement already satisfied: scipy>=1.3.2 in c:\\users\\cuihaoxuan\\anaconda3\\lib\\site-packages (from imbalanced-learn) (1.7.1)\n",
      "Requirement already satisfied: numpy>=1.17.3 in c:\\users\\cuihaoxuan\\anaconda3\\lib\\site-packages (from imbalanced-learn) (1.20.3)\n",
      "Requirement already satisfied: joblib>=1.0.0 in c:\\users\\cuihaoxuan\\anaconda3\\lib\\site-packages (from imbalanced-learn) (1.1.0)\n",
      "Requirement already satisfied: scikit-learn>=1.1.0 in c:\\users\\cuihaoxuan\\anaconda3\\lib\\site-packages (from imbalanced-learn) (1.1.2)\n",
      "Note: you may need to restart the kernel to use updated packages.\n"
     ]
    }
   ],
   "source": [
    "import pandas as pd\n",
    "import numpy as np\n",
    "import matplotlib.pyplot as plt\n",
    "import seaborn as sns\n",
    "from matplotlib.pyplot import figure\n",
    "from collections import defaultdict\n",
    "from sklearn.preprocessing import LabelEncoder\n",
    "from sklearn.preprocessing import OneHotEncoder\n",
    "\n",
    "from sklearn.preprocessing import StandardScaler\n",
    "from sklearn.preprocessing import MinMaxScaler\n",
    "from sklearn import preprocessing\n",
    "\n",
    "%pip install -U imbalanced-learn\n",
    "\n",
    "from imblearn.over_sampling import SMOTE "
   ]
  },
  {
   "cell_type": "code",
   "execution_count": 3,
   "id": "3d2e8b56",
   "metadata": {},
   "outputs": [],
   "source": [
    "df_train = pd.read_csv('aug_train.csv')\n",
    "df_test = pd.read_csv('aug_test.csv')\n",
    "df_test_target = pd.read_csv('sample_submission.csv')\n"
   ]
  },
  {
   "cell_type": "code",
   "execution_count": 4,
   "id": "c78d7b42",
   "metadata": {},
   "outputs": [],
   "source": [
    "df_test_comb = pd.merge(df_test,df_test_target,on='enrollee_id',how='inner')\n",
    "df = df_train.append(df_test_comb)# append is y axis add, merge is x axis add\n",
    "df_raw = df.copy()\n",
    "#test target only has enrolle id and target, combine is with test(inner: combine the ones that are the same)"
   ]
  },
  {
   "cell_type": "code",
   "execution_count": 5,
   "id": "4ec76718",
   "metadata": {},
   "outputs": [
    {
     "data": {
      "text/plain": [
       "(21287, 14)"
      ]
     },
     "execution_count": 5,
     "metadata": {},
     "output_type": "execute_result"
    }
   ],
   "source": [
    "df_raw.shape"
   ]
  },
  {
   "cell_type": "code",
   "execution_count": 6,
   "id": "3b7ca5fa",
   "metadata": {
    "scrolled": true
   },
   "outputs": [
    {
     "name": "stdout",
     "output_type": "stream",
     "text": [
      "-----COLUMNS----- enrollee_id\n",
      "int64\n",
      "[8949, 29725, 11561, 33241, 666, 21651, 28806, 402, 27107, 699, 29452, 23853, 25619, 5826, 8722, 6588, 4167, 5764, 2156, 11399]\n",
      "-----COLUMNS----- city\n",
      "object\n",
      "['city_103', 'city_40', 'city_21', 'city_115', 'city_162', 'city_176', 'city_160', 'city_46', 'city_61', 'city_114', 'city_13', 'city_159', 'city_102', 'city_67', 'city_100', 'city_16', 'city_71', 'city_104', 'city_64', 'city_101']\n",
      "-----COLUMNS----- city_development_index\n",
      "float64\n",
      "[0.92, 0.7759999999999999, 0.624, 0.789, 0.767, 0.764, 0.762, 0.913, 0.926, 0.8270000000000001, 0.843, 0.804, 0.855, 0.887, 0.91, 0.884, 0.924, 0.6659999999999999, 0.5579999999999999, 0.923]\n",
      "-----COLUMNS----- gender\n",
      "object\n",
      "['Male', nan, 'Female', 'Other']\n",
      "-----COLUMNS----- relevent_experience\n",
      "object\n",
      "['Has relevent experience', 'No relevent experience']\n",
      "-----COLUMNS----- enrolled_university\n",
      "object\n",
      "['no_enrollment', 'Full time course', nan, 'Part time course']\n",
      "-----COLUMNS----- education_level\n",
      "object\n",
      "['Graduate', 'Masters', 'High School', nan, 'Phd', 'Primary School']\n",
      "-----COLUMNS----- major_discipline\n",
      "object\n",
      "['STEM', 'Business Degree', nan, 'Arts', 'Humanities', 'No Major', 'Other']\n",
      "-----COLUMNS----- experience\n",
      "object\n",
      "['>20', '15', '5', '<1', '11', '13', '7', '17', '2', '16', '1', '4', '10', '14', '18', '19', '12', '3', '6', '9']\n",
      "-----COLUMNS----- company_size\n",
      "object\n",
      "[nan, '50-99', '<10', '10000+', '5000-9999', '1000-4999', '10/49', '100-500', '500-999']\n",
      "-----COLUMNS----- company_type\n",
      "object\n",
      "[nan, 'Pvt Ltd', 'Funded Startup', 'Early Stage Startup', 'Other', 'Public Sector', 'NGO']\n",
      "-----COLUMNS----- last_new_job\n",
      "object\n",
      "['1', '>4', 'never', '4', '3', '2', nan]\n",
      "-----COLUMNS----- training_hours\n",
      "int64\n",
      "[36, 47, 83, 52, 8, 24, 18, 46, 123, 32, 108, 23, 26, 106, 7, 132, 68, 50, 48, 65]\n",
      "-----COLUMNS----- target\n",
      "float64\n",
      "[1.0, 0.0, 0.5]\n"
     ]
    }
   ],
   "source": [
    "for x in df.columns:\n",
    "    print('-----COLUMNS-----', x)\n",
    "    print(df[x].dtype)\n",
    "    print(df[x].unique().tolist()[:20]) #lots of unique value under each columns just look at the first 20\n",
    "# understand the feature and values for all the columns"
   ]
  },
  {
   "cell_type": "markdown",
   "id": "75d746ae",
   "metadata": {},
   "source": [
    "# Explore and identify preprocessing steps¶"
   ]
  },
  {
   "cell_type": "markdown",
   "id": "819592f1",
   "metadata": {},
   "source": [
    "## (to find feature's correlation, null value or outlier)"
   ]
  },
  {
   "cell_type": "code",
   "execution_count": 7,
   "id": "3e081f3a",
   "metadata": {},
   "outputs": [
    {
     "data": {
      "text/plain": [
       "enrollee_id                  0\n",
       "city                         0\n",
       "city_development_index       0\n",
       "gender                    5016\n",
       "relevent_experience          0\n",
       "enrolled_university        417\n",
       "education_level            512\n",
       "major_discipline          3125\n",
       "experience                  70\n",
       "company_size              6560\n",
       "company_type              6774\n",
       "last_new_job               463\n",
       "training_hours               0\n",
       "target                       0\n",
       "dtype: int64"
      ]
     },
     "execution_count": 7,
     "metadata": {},
     "output_type": "execute_result"
    }
   ],
   "source": [
    "df.isnull().sum()"
   ]
  },
  {
   "cell_type": "code",
   "execution_count": 8,
   "id": "c0f6f799",
   "metadata": {},
   "outputs": [
    {
     "data": {
      "text/plain": [
       "0    9974\n",
       "1    4152\n",
       "2    4030\n",
       "3    2168\n",
       "4     688\n",
       "5     195\n",
       "6      66\n",
       "7      14\n",
       "Name: 0, dtype: int64"
      ]
     },
     "execution_count": 8,
     "metadata": {},
     "output_type": "execute_result"
    }
   ],
   "source": [
    "# count of missing value per row\n",
    "missing_value_row = pd.DataFrame(df.isnull().sum(axis=1))\n",
    "missing_value_row[0].value_counts()"
   ]
  },
  {
   "cell_type": "code",
   "execution_count": 9,
   "id": "e1c0a8da",
   "metadata": {},
   "outputs": [
    {
     "data": {
      "text/html": [
       "<div>\n",
       "<style scoped>\n",
       "    .dataframe tbody tr th:only-of-type {\n",
       "        vertical-align: middle;\n",
       "    }\n",
       "\n",
       "    .dataframe tbody tr th {\n",
       "        vertical-align: top;\n",
       "    }\n",
       "\n",
       "    .dataframe thead th {\n",
       "        text-align: right;\n",
       "    }\n",
       "</style>\n",
       "<table border=\"1\" class=\"dataframe\">\n",
       "  <thead>\n",
       "    <tr style=\"text-align: right;\">\n",
       "      <th></th>\n",
       "      <th>0</th>\n",
       "    </tr>\n",
       "  </thead>\n",
       "  <tbody>\n",
       "    <tr>\n",
       "      <th>1376</th>\n",
       "      <td>7</td>\n",
       "    </tr>\n",
       "    <tr>\n",
       "      <th>2518</th>\n",
       "      <td>7</td>\n",
       "    </tr>\n",
       "    <tr>\n",
       "      <th>7746</th>\n",
       "      <td>7</td>\n",
       "    </tr>\n",
       "    <tr>\n",
       "      <th>8905</th>\n",
       "      <td>7</td>\n",
       "    </tr>\n",
       "    <tr>\n",
       "      <th>9206</th>\n",
       "      <td>7</td>\n",
       "    </tr>\n",
       "    <tr>\n",
       "      <th>10337</th>\n",
       "      <td>7</td>\n",
       "    </tr>\n",
       "    <tr>\n",
       "      <th>11789</th>\n",
       "      <td>7</td>\n",
       "    </tr>\n",
       "    <tr>\n",
       "      <th>12079</th>\n",
       "      <td>7</td>\n",
       "    </tr>\n",
       "    <tr>\n",
       "      <th>12348</th>\n",
       "      <td>7</td>\n",
       "    </tr>\n",
       "    <tr>\n",
       "      <th>13236</th>\n",
       "      <td>7</td>\n",
       "    </tr>\n",
       "    <tr>\n",
       "      <th>17453</th>\n",
       "      <td>7</td>\n",
       "    </tr>\n",
       "    <tr>\n",
       "      <th>17977</th>\n",
       "      <td>7</td>\n",
       "    </tr>\n",
       "    <tr>\n",
       "      <th>125</th>\n",
       "      <td>7</td>\n",
       "    </tr>\n",
       "    <tr>\n",
       "      <th>1763</th>\n",
       "      <td>7</td>\n",
       "    </tr>\n",
       "  </tbody>\n",
       "</table>\n",
       "</div>"
      ],
      "text/plain": [
       "       0\n",
       "1376   7\n",
       "2518   7\n",
       "7746   7\n",
       "8905   7\n",
       "9206   7\n",
       "10337  7\n",
       "11789  7\n",
       "12079  7\n",
       "12348  7\n",
       "13236  7\n",
       "17453  7\n",
       "17977  7\n",
       "125    7\n",
       "1763   7"
      ]
     },
     "execution_count": 9,
     "metadata": {},
     "output_type": "execute_result"
    }
   ],
   "source": [
    "# examine the row that has way too many missing value\n",
    "missing_value_row[missing_value_row[0]==7]"
   ]
  },
  {
   "cell_type": "code",
   "execution_count": 10,
   "id": "f3c57f1a",
   "metadata": {},
   "outputs": [],
   "source": [
    "# drop the row if less than 10 non-null value . 14 total column - 5missing colum = 9 , 9+1 = 10 at least 10 non-missing value\n",
    "# remove 250 records thats has more than 5 missing value in a record\n",
    "df.dropna(axis=0, thresh=10, inplace=True) # drop the row, at least 10 non missing value"
   ]
  },
  {
   "cell_type": "code",
   "execution_count": 11,
   "id": "b4b726a0",
   "metadata": {},
   "outputs": [
    {
     "data": {
      "text/plain": [
       "(21012, 14)"
      ]
     },
     "execution_count": 11,
     "metadata": {},
     "output_type": "execute_result"
    }
   ],
   "source": [
    "df.shape"
   ]
  },
  {
   "cell_type": "code",
   "execution_count": 12,
   "id": "9f303338",
   "metadata": {},
   "outputs": [
    {
     "data": {
      "text/plain": [
       "123"
      ]
     },
     "execution_count": 12,
     "metadata": {},
     "output_type": "execute_result"
    }
   ],
   "source": [
    "# save as dictionary of each city counts, easier to see too\n",
    "city_dict = df['city'].value_counts().to_dict()\n",
    "df['city'].nunique()"
   ]
  },
  {
   "cell_type": "code",
   "execution_count": 13,
   "id": "828fb591",
   "metadata": {},
   "outputs": [
    {
     "data": {
      "image/png": "[encoded data removed]",
      "text/plain": [
       "<Figure size 1440x1440 with 10 Axes>"
      ]
     },
     "metadata": {
      "needs_background": "light"
     },
     "output_type": "display_data"
    }
   ],
   "source": [
    "# plot counts of value in selected column\n",
    "plt.figure(figsize=[20,20])\n",
    "col = ['relevent_experience','education_level','major_discipline','experience', 'company_size', 'company_type',\n",
    "       'training_hours', 'target','enrolled_university', 'gender']\n",
    "\n",
    "n=1\n",
    "for col_name in col:\n",
    "    plt.subplot(5,2,n)\n",
    "    sns.countplot(x=col_name,data=df)\n",
    "    #plt.title(f\"{col_name} Distribution\") \n",
    "    n=n+1\n",
    "    \n",
    "plt.show()"
   ]
  },
  {
   "cell_type": "markdown",
   "id": "c01dd53a",
   "metadata": {},
   "source": [
    "# City"
   ]
  },
  {
   "cell_type": "code",
   "execution_count": 14,
   "id": "4c9bacaf",
   "metadata": {},
   "outputs": [],
   "source": [
    "## Binning , categorize all count of candidate <=50 as one group'small_city'\n",
    "lst_small_city=[]\n",
    "lst_med_city=[]\n",
    "lst_large_city=[]\n",
    "lst_superlarge_city=[]\n",
    "for key,value in city_dict.items():\n",
    "    if value <=50:\n",
    "        lst_small_city.append(key)\n",
    "    if value >50 and value <=100:\n",
    "        lst_med_city.append(key)\n",
    "    if value >100 and value <=200:\n",
    "        lst_large_city.append(key)\n",
    "    else:\n",
    "        lst_superlarge_city.append(key)"
   ]
  },
  {
   "cell_type": "code",
   "execution_count": 15,
   "id": "d57af34a",
   "metadata": {},
   "outputs": [],
   "source": [
    "# replace those small city name as 'city_small'\n",
    "\n",
    "df.loc[df['city'].isin(lst_small_city) , 'city'] = 'city_small'\n",
    "df.loc[df['city'].isin(lst_med_city) , 'city'] = 'city_med'\n",
    "df.loc[df['city'].isin(lst_large_city) , 'city'] = 'city_large'\n",
    "df.loc[df['city'].isin(lst_superlarge_city) , 'city'] = 'city_xlarge'"
   ]
  },
  {
   "cell_type": "code",
   "execution_count": 16,
   "id": "bba380ab",
   "metadata": {},
   "outputs": [
    {
     "data": {
      "text/plain": [
       "city_xlarge    15761\n",
       "city_large      2723\n",
       "city_med        1375\n",
       "city_small      1153\n",
       "Name: city, dtype: int64"
      ]
     },
     "execution_count": 16,
     "metadata": {},
     "output_type": "execute_result"
    }
   ],
   "source": [
    "df.city.value_counts()"
   ]
  },
  {
   "cell_type": "code",
   "execution_count": 17,
   "id": "2f421286",
   "metadata": {},
   "outputs": [],
   "source": [
    "le = LabelEncoder().fit(df['city'])\n",
    "CityList = le.classes_\n",
    "df['city'] = le.transform(df['city'])"
   ]
  },
  {
   "cell_type": "code",
   "execution_count": 18,
   "id": "505e7f50",
   "metadata": {},
   "outputs": [
    {
     "data": {
      "text/plain": [
       "{'city_large': 0, 'city_med': 1, 'city_small': 2, 'city_xlarge': 3}"
      ]
     },
     "execution_count": 18,
     "metadata": {},
     "output_type": "execute_result"
    }
   ],
   "source": [
    "# Keep the record of labeling\n",
    "dict(zip(le.classes_, le.transform(le.classes_)))"
   ]
  },
  {
   "cell_type": "markdown",
   "id": "fb97b1eb",
   "metadata": {},
   "source": [
    "# Gender"
   ]
  },
  {
   "cell_type": "code",
   "execution_count": 19,
   "id": "8817f27d",
   "metadata": {},
   "outputs": [
    {
     "data": {
      "text/plain": [
       "Male      14641\n",
       "Female     1374\n",
       "Other       210\n",
       "Name: gender, dtype: int64"
      ]
     },
     "execution_count": 19,
     "metadata": {},
     "output_type": "execute_result"
    }
   ],
   "source": [
    "#gender\n",
    "df.gender.value_counts()"
   ]
  },
  {
   "cell_type": "code",
   "execution_count": 20,
   "id": "2f41b32b",
   "metadata": {},
   "outputs": [
    {
     "data": {
      "text/html": [
       "<div>\n",
       "<style scoped>\n",
       "    .dataframe tbody tr th:only-of-type {\n",
       "        vertical-align: middle;\n",
       "    }\n",
       "\n",
       "    .dataframe tbody tr th {\n",
       "        vertical-align: top;\n",
       "    }\n",
       "\n",
       "    .dataframe thead th {\n",
       "        text-align: right;\n",
       "    }\n",
       "</style>\n",
       "<table border=\"1\" class=\"dataframe\">\n",
       "  <thead>\n",
       "    <tr style=\"text-align: right;\">\n",
       "      <th></th>\n",
       "      <th>enrollee_id</th>\n",
       "      <th>city</th>\n",
       "      <th>city_development_index</th>\n",
       "      <th>gender</th>\n",
       "      <th>relevent_experience</th>\n",
       "      <th>enrolled_university</th>\n",
       "      <th>education_level</th>\n",
       "      <th>major_discipline</th>\n",
       "      <th>experience</th>\n",
       "      <th>company_size</th>\n",
       "      <th>company_type</th>\n",
       "      <th>last_new_job</th>\n",
       "      <th>training_hours</th>\n",
       "      <th>target</th>\n",
       "    </tr>\n",
       "  </thead>\n",
       "  <tbody>\n",
       "    <tr>\n",
       "      <th>2</th>\n",
       "      <td>11561</td>\n",
       "      <td>3</td>\n",
       "      <td>0.624</td>\n",
       "      <td>NaN</td>\n",
       "      <td>No relevent experience</td>\n",
       "      <td>Full time course</td>\n",
       "      <td>Graduate</td>\n",
       "      <td>STEM</td>\n",
       "      <td>5</td>\n",
       "      <td>NaN</td>\n",
       "      <td>NaN</td>\n",
       "      <td>never</td>\n",
       "      <td>83</td>\n",
       "      <td>0.0</td>\n",
       "    </tr>\n",
       "    <tr>\n",
       "      <th>3</th>\n",
       "      <td>33241</td>\n",
       "      <td>1</td>\n",
       "      <td>0.789</td>\n",
       "      <td>NaN</td>\n",
       "      <td>No relevent experience</td>\n",
       "      <td>NaN</td>\n",
       "      <td>Graduate</td>\n",
       "      <td>Business Degree</td>\n",
       "      <td>&lt;1</td>\n",
       "      <td>NaN</td>\n",
       "      <td>Pvt Ltd</td>\n",
       "      <td>never</td>\n",
       "      <td>52</td>\n",
       "      <td>1.0</td>\n",
       "    </tr>\n",
       "    <tr>\n",
       "      <th>5</th>\n",
       "      <td>21651</td>\n",
       "      <td>2</td>\n",
       "      <td>0.764</td>\n",
       "      <td>NaN</td>\n",
       "      <td>Has relevent experience</td>\n",
       "      <td>Part time course</td>\n",
       "      <td>Graduate</td>\n",
       "      <td>STEM</td>\n",
       "      <td>11</td>\n",
       "      <td>NaN</td>\n",
       "      <td>NaN</td>\n",
       "      <td>1</td>\n",
       "      <td>24</td>\n",
       "      <td>1.0</td>\n",
       "    </tr>\n",
       "    <tr>\n",
       "      <th>9</th>\n",
       "      <td>699</td>\n",
       "      <td>3</td>\n",
       "      <td>0.920</td>\n",
       "      <td>NaN</td>\n",
       "      <td>Has relevent experience</td>\n",
       "      <td>no_enrollment</td>\n",
       "      <td>Graduate</td>\n",
       "      <td>STEM</td>\n",
       "      <td>17</td>\n",
       "      <td>10000+</td>\n",
       "      <td>Pvt Ltd</td>\n",
       "      <td>&gt;4</td>\n",
       "      <td>123</td>\n",
       "      <td>0.0</td>\n",
       "    </tr>\n",
       "    <tr>\n",
       "      <th>10</th>\n",
       "      <td>29452</td>\n",
       "      <td>3</td>\n",
       "      <td>0.624</td>\n",
       "      <td>NaN</td>\n",
       "      <td>No relevent experience</td>\n",
       "      <td>Full time course</td>\n",
       "      <td>High School</td>\n",
       "      <td>NaN</td>\n",
       "      <td>2</td>\n",
       "      <td>NaN</td>\n",
       "      <td>NaN</td>\n",
       "      <td>never</td>\n",
       "      <td>32</td>\n",
       "      <td>1.0</td>\n",
       "    </tr>\n",
       "    <tr>\n",
       "      <th>...</th>\n",
       "      <td>...</td>\n",
       "      <td>...</td>\n",
       "      <td>...</td>\n",
       "      <td>...</td>\n",
       "      <td>...</td>\n",
       "      <td>...</td>\n",
       "      <td>...</td>\n",
       "      <td>...</td>\n",
       "      <td>...</td>\n",
       "      <td>...</td>\n",
       "      <td>...</td>\n",
       "      <td>...</td>\n",
       "      <td>...</td>\n",
       "      <td>...</td>\n",
       "    </tr>\n",
       "    <tr>\n",
       "      <th>2107</th>\n",
       "      <td>19678</td>\n",
       "      <td>3</td>\n",
       "      <td>0.910</td>\n",
       "      <td>NaN</td>\n",
       "      <td>Has relevent experience</td>\n",
       "      <td>no_enrollment</td>\n",
       "      <td>Graduate</td>\n",
       "      <td>STEM</td>\n",
       "      <td>&gt;20</td>\n",
       "      <td>&lt;10</td>\n",
       "      <td>Pvt Ltd</td>\n",
       "      <td>never</td>\n",
       "      <td>138</td>\n",
       "      <td>0.5</td>\n",
       "    </tr>\n",
       "    <tr>\n",
       "      <th>2110</th>\n",
       "      <td>22744</td>\n",
       "      <td>1</td>\n",
       "      <td>0.698</td>\n",
       "      <td>NaN</td>\n",
       "      <td>Has relevent experience</td>\n",
       "      <td>no_enrollment</td>\n",
       "      <td>Masters</td>\n",
       "      <td>STEM</td>\n",
       "      <td>15</td>\n",
       "      <td>50-99</td>\n",
       "      <td>Pvt Ltd</td>\n",
       "      <td>&gt;4</td>\n",
       "      <td>157</td>\n",
       "      <td>0.5</td>\n",
       "    </tr>\n",
       "    <tr>\n",
       "      <th>2114</th>\n",
       "      <td>6294</td>\n",
       "      <td>3</td>\n",
       "      <td>0.754</td>\n",
       "      <td>NaN</td>\n",
       "      <td>Has relevent experience</td>\n",
       "      <td>no_enrollment</td>\n",
       "      <td>High School</td>\n",
       "      <td>NaN</td>\n",
       "      <td>&gt;20</td>\n",
       "      <td>50-99</td>\n",
       "      <td>Pvt Ltd</td>\n",
       "      <td>2</td>\n",
       "      <td>31</td>\n",
       "      <td>0.5</td>\n",
       "    </tr>\n",
       "    <tr>\n",
       "      <th>2119</th>\n",
       "      <td>8905</td>\n",
       "      <td>2</td>\n",
       "      <td>0.698</td>\n",
       "      <td>NaN</td>\n",
       "      <td>No relevent experience</td>\n",
       "      <td>Full time course</td>\n",
       "      <td>High School</td>\n",
       "      <td>NaN</td>\n",
       "      <td>8</td>\n",
       "      <td>NaN</td>\n",
       "      <td>NaN</td>\n",
       "      <td>never</td>\n",
       "      <td>55</td>\n",
       "      <td>0.5</td>\n",
       "    </tr>\n",
       "    <tr>\n",
       "      <th>2122</th>\n",
       "      <td>24507</td>\n",
       "      <td>3</td>\n",
       "      <td>0.698</td>\n",
       "      <td>NaN</td>\n",
       "      <td>No relevent experience</td>\n",
       "      <td>no_enrollment</td>\n",
       "      <td>Graduate</td>\n",
       "      <td>STEM</td>\n",
       "      <td>20</td>\n",
       "      <td>NaN</td>\n",
       "      <td>NaN</td>\n",
       "      <td>never</td>\n",
       "      <td>133</td>\n",
       "      <td>0.5</td>\n",
       "    </tr>\n",
       "  </tbody>\n",
       "</table>\n",
       "<p>4787 rows × 14 columns</p>\n",
       "</div>"
      ],
      "text/plain": [
       "      enrollee_id  city  city_development_index gender  \\\n",
       "2           11561     3                   0.624    NaN   \n",
       "3           33241     1                   0.789    NaN   \n",
       "5           21651     2                   0.764    NaN   \n",
       "9             699     3                   0.920    NaN   \n",
       "10          29452     3                   0.624    NaN   \n",
       "...           ...   ...                     ...    ...   \n",
       "2107        19678     3                   0.910    NaN   \n",
       "2110        22744     1                   0.698    NaN   \n",
       "2114         6294     3                   0.754    NaN   \n",
       "2119         8905     2                   0.698    NaN   \n",
       "2122        24507     3                   0.698    NaN   \n",
       "\n",
       "          relevent_experience enrolled_university education_level  \\\n",
       "2      No relevent experience    Full time course        Graduate   \n",
       "3      No relevent experience                 NaN        Graduate   \n",
       "5     Has relevent experience    Part time course        Graduate   \n",
       "9     Has relevent experience       no_enrollment        Graduate   \n",
       "10     No relevent experience    Full time course     High School   \n",
       "...                       ...                 ...             ...   \n",
       "2107  Has relevent experience       no_enrollment        Graduate   \n",
       "2110  Has relevent experience       no_enrollment         Masters   \n",
       "2114  Has relevent experience       no_enrollment     High School   \n",
       "2119   No relevent experience    Full time course     High School   \n",
       "2122   No relevent experience       no_enrollment        Graduate   \n",
       "\n",
       "     major_discipline experience company_size company_type last_new_job  \\\n",
       "2                STEM          5          NaN          NaN        never   \n",
       "3     Business Degree         <1          NaN      Pvt Ltd        never   \n",
       "5                STEM         11          NaN          NaN            1   \n",
       "9                STEM         17       10000+      Pvt Ltd           >4   \n",
       "10                NaN          2          NaN          NaN        never   \n",
       "...               ...        ...          ...          ...          ...   \n",
       "2107             STEM        >20          <10      Pvt Ltd        never   \n",
       "2110             STEM         15        50-99      Pvt Ltd           >4   \n",
       "2114              NaN        >20        50-99      Pvt Ltd            2   \n",
       "2119              NaN          8          NaN          NaN        never   \n",
       "2122             STEM         20          NaN          NaN        never   \n",
       "\n",
       "      training_hours  target  \n",
       "2                 83     0.0  \n",
       "3                 52     1.0  \n",
       "5                 24     1.0  \n",
       "9                123     0.0  \n",
       "10                32     1.0  \n",
       "...              ...     ...  \n",
       "2107             138     0.5  \n",
       "2110             157     0.5  \n",
       "2114              31     0.5  \n",
       "2119              55     0.5  \n",
       "2122             133     0.5  \n",
       "\n",
       "[4787 rows x 14 columns]"
      ]
     },
     "execution_count": 20,
     "metadata": {},
     "output_type": "execute_result"
    }
   ],
   "source": [
    "df[df.gender.isna()]"
   ]
  },
  {
   "cell_type": "code",
   "execution_count": 21,
   "id": "17d4206a",
   "metadata": {},
   "outputs": [
    {
     "data": {
      "text/plain": [
       "<AxesSubplot:xlabel='enrolled_university,education_level,major_discipline'>"
      ]
     },
     "execution_count": 21,
     "metadata": {},
     "output_type": "execute_result"
    },
    {
     "data": {
      "image/png": "[encoded data removed]",
      "text/plain": [
       "<Figure size 576x360 with 1 Axes>"
      ]
     },
     "metadata": {
      "needs_background": "light"
     },
     "output_type": "display_data"
    }
   ],
   "source": [
    "# show the counts of each group when gender is 'Other'\n",
    "group = df[df['gender']=='Other'].groupby(['enrolled_university', 'education_level', 'major_discipline']).size()\n",
    "figure(figsize=(8,5))\n",
    "group.plot.bar()"
   ]
  },
  {
   "cell_type": "code",
   "execution_count": 22,
   "id": "2e6bc682",
   "metadata": {},
   "outputs": [
    {
     "data": {
      "text/plain": [
       "<AxesSubplot:xlabel='enrolled_university,education_level,major_discipline'>"
      ]
     },
     "execution_count": 22,
     "metadata": {},
     "output_type": "execute_result"
    },
    {
     "data": {
      "image/png": "[encoded data removed]",
      "text/plain": [
       "<Figure size 576x360 with 1 Axes>"
      ]
     },
     "metadata": {
      "needs_background": "light"
     },
     "output_type": "display_data"
    }
   ],
   "source": [
    "# show the counts of each group when gender is null \n",
    "group = df[df['gender'].isna()].groupby(['enrolled_university', 'education_level', 'major_discipline']).size()\n",
    "figure(figsize=(8,5))\n",
    "group.plot.bar()"
   ]
  },
  {
   "cell_type": "code",
   "execution_count": 23,
   "id": "0ac2fd39",
   "metadata": {},
   "outputs": [],
   "source": [
    "# replace the null value of gender to 'Other', because based on the\n",
    "df['gender'].fillna('Other' ,inplace=True)"
   ]
  },
  {
   "cell_type": "code",
   "execution_count": 24,
   "id": "4f89cf24",
   "metadata": {},
   "outputs": [],
   "source": [
    "le_gender = LabelEncoder().fit(df['gender'])\n",
    "df['gender'] = le_gender.transform(df['gender'])"
   ]
  },
  {
   "cell_type": "markdown",
   "id": "b5dceebf",
   "metadata": {},
   "source": [
    "# Relative Experience"
   ]
  },
  {
   "cell_type": "code",
   "execution_count": 25,
   "id": "6262fcfe",
   "metadata": {},
   "outputs": [
    {
     "data": {
      "text/plain": [
       "Has relevent experience    15251\n",
       "No relevent experience      5761\n",
       "Name: relevent_experience, dtype: int64"
      ]
     },
     "execution_count": 25,
     "metadata": {},
     "output_type": "execute_result"
    }
   ],
   "source": [
    "# convert to binary 0 and 1, no nan since (dropna is false)\n",
    "df.relevent_experience.value_counts(dropna=False)"
   ]
  },
  {
   "cell_type": "code",
   "execution_count": 26,
   "id": "45a2f6bf",
   "metadata": {},
   "outputs": [
    {
     "data": {
      "text/plain": [
       "no_enrollment       0.725300\n",
       "Full time course    0.197459\n",
       "Part time course    0.063345\n",
       "NaN                 0.013897\n",
       "Name: enrolled_university, dtype: float64"
      ]
     },
     "execution_count": 26,
     "metadata": {},
     "output_type": "execute_result"
    }
   ],
   "source": [
    "#show percentage of all values in percentage(normalize)\n",
    "df.enrolled_university.value_counts(dropna=False,normalize=True)"
   ]
  },
  {
   "cell_type": "code",
   "execution_count": 27,
   "id": "f1c817b1",
   "metadata": {},
   "outputs": [
    {
     "data": {
      "text/plain": [
       "array([0, 1, 1, ..., 1, 0, 0])"
      ]
     },
     "execution_count": 27,
     "metadata": {},
     "output_type": "execute_result"
    }
   ],
   "source": [
    "le = preprocessing.LabelEncoder()\n",
    "le.fit_transform(df['relevent_experience'])"
   ]
  },
  {
   "cell_type": "code",
   "execution_count": 28,
   "id": "5488ff97",
   "metadata": {},
   "outputs": [],
   "source": [
    "#change the original data set sring to number\n",
    "df['relevent_experience']=le.fit_transform(df['relevent_experience'])"
   ]
  },
  {
   "cell_type": "code",
   "execution_count": 29,
   "id": "9b2f5162",
   "metadata": {},
   "outputs": [
    {
     "data": {
      "text/plain": [
       "{'Has relevent experience': 0, 'No relevent experience': 1}"
      ]
     },
     "execution_count": 29,
     "metadata": {},
     "output_type": "execute_result"
    }
   ],
   "source": [
    "# create a label encoding reference \n",
    "dict(zip(le.classes_,le.transform(le.classes_))) # zip aggregate two list into a tuple"
   ]
  },
  {
   "cell_type": "code",
   "execution_count": 30,
   "id": "b85f1bcc",
   "metadata": {
    "scrolled": true
   },
   "outputs": [
    {
     "data": {
      "text/html": [
       "<div>\n",
       "<style scoped>\n",
       "    .dataframe tbody tr th:only-of-type {\n",
       "        vertical-align: middle;\n",
       "    }\n",
       "\n",
       "    .dataframe tbody tr th {\n",
       "        vertical-align: top;\n",
       "    }\n",
       "\n",
       "    .dataframe thead th {\n",
       "        text-align: right;\n",
       "    }\n",
       "</style>\n",
       "<table border=\"1\" class=\"dataframe\">\n",
       "  <thead>\n",
       "    <tr style=\"text-align: right;\">\n",
       "      <th></th>\n",
       "      <th>enrollee_id</th>\n",
       "      <th>city</th>\n",
       "      <th>city_development_index</th>\n",
       "      <th>gender</th>\n",
       "      <th>relevent_experience</th>\n",
       "      <th>enrolled_university</th>\n",
       "      <th>education_level</th>\n",
       "      <th>major_discipline</th>\n",
       "      <th>experience</th>\n",
       "      <th>company_size</th>\n",
       "      <th>company_type</th>\n",
       "      <th>last_new_job</th>\n",
       "      <th>training_hours</th>\n",
       "      <th>target</th>\n",
       "    </tr>\n",
       "  </thead>\n",
       "  <tbody>\n",
       "    <tr>\n",
       "      <th>0</th>\n",
       "      <td>8949</td>\n",
       "      <td>3</td>\n",
       "      <td>0.920</td>\n",
       "      <td>1</td>\n",
       "      <td>0</td>\n",
       "      <td>no_enrollment</td>\n",
       "      <td>Graduate</td>\n",
       "      <td>STEM</td>\n",
       "      <td>&gt;20</td>\n",
       "      <td>NaN</td>\n",
       "      <td>NaN</td>\n",
       "      <td>1</td>\n",
       "      <td>36</td>\n",
       "      <td>1.0</td>\n",
       "    </tr>\n",
       "    <tr>\n",
       "      <th>1</th>\n",
       "      <td>29725</td>\n",
       "      <td>1</td>\n",
       "      <td>0.776</td>\n",
       "      <td>1</td>\n",
       "      <td>1</td>\n",
       "      <td>no_enrollment</td>\n",
       "      <td>Graduate</td>\n",
       "      <td>STEM</td>\n",
       "      <td>15</td>\n",
       "      <td>50-99</td>\n",
       "      <td>Pvt Ltd</td>\n",
       "      <td>&gt;4</td>\n",
       "      <td>47</td>\n",
       "      <td>0.0</td>\n",
       "    </tr>\n",
       "    <tr>\n",
       "      <th>2</th>\n",
       "      <td>11561</td>\n",
       "      <td>3</td>\n",
       "      <td>0.624</td>\n",
       "      <td>2</td>\n",
       "      <td>1</td>\n",
       "      <td>Full time course</td>\n",
       "      <td>Graduate</td>\n",
       "      <td>STEM</td>\n",
       "      <td>5</td>\n",
       "      <td>NaN</td>\n",
       "      <td>NaN</td>\n",
       "      <td>never</td>\n",
       "      <td>83</td>\n",
       "      <td>0.0</td>\n",
       "    </tr>\n",
       "    <tr>\n",
       "      <th>3</th>\n",
       "      <td>33241</td>\n",
       "      <td>1</td>\n",
       "      <td>0.789</td>\n",
       "      <td>2</td>\n",
       "      <td>1</td>\n",
       "      <td>NaN</td>\n",
       "      <td>Graduate</td>\n",
       "      <td>Business Degree</td>\n",
       "      <td>&lt;1</td>\n",
       "      <td>NaN</td>\n",
       "      <td>Pvt Ltd</td>\n",
       "      <td>never</td>\n",
       "      <td>52</td>\n",
       "      <td>1.0</td>\n",
       "    </tr>\n",
       "    <tr>\n",
       "      <th>4</th>\n",
       "      <td>666</td>\n",
       "      <td>0</td>\n",
       "      <td>0.767</td>\n",
       "      <td>1</td>\n",
       "      <td>0</td>\n",
       "      <td>no_enrollment</td>\n",
       "      <td>Masters</td>\n",
       "      <td>STEM</td>\n",
       "      <td>&gt;20</td>\n",
       "      <td>50-99</td>\n",
       "      <td>Funded Startup</td>\n",
       "      <td>4</td>\n",
       "      <td>8</td>\n",
       "      <td>0.0</td>\n",
       "    </tr>\n",
       "    <tr>\n",
       "      <th>...</th>\n",
       "      <td>...</td>\n",
       "      <td>...</td>\n",
       "      <td>...</td>\n",
       "      <td>...</td>\n",
       "      <td>...</td>\n",
       "      <td>...</td>\n",
       "      <td>...</td>\n",
       "      <td>...</td>\n",
       "      <td>...</td>\n",
       "      <td>...</td>\n",
       "      <td>...</td>\n",
       "      <td>...</td>\n",
       "      <td>...</td>\n",
       "      <td>...</td>\n",
       "    </tr>\n",
       "    <tr>\n",
       "      <th>2124</th>\n",
       "      <td>1289</td>\n",
       "      <td>3</td>\n",
       "      <td>0.920</td>\n",
       "      <td>1</td>\n",
       "      <td>1</td>\n",
       "      <td>no_enrollment</td>\n",
       "      <td>Graduate</td>\n",
       "      <td>Humanities</td>\n",
       "      <td>16</td>\n",
       "      <td>NaN</td>\n",
       "      <td>Public Sector</td>\n",
       "      <td>4</td>\n",
       "      <td>15</td>\n",
       "      <td>0.5</td>\n",
       "    </tr>\n",
       "    <tr>\n",
       "      <th>2125</th>\n",
       "      <td>195</td>\n",
       "      <td>3</td>\n",
       "      <td>0.897</td>\n",
       "      <td>1</td>\n",
       "      <td>0</td>\n",
       "      <td>no_enrollment</td>\n",
       "      <td>Masters</td>\n",
       "      <td>STEM</td>\n",
       "      <td>18</td>\n",
       "      <td>NaN</td>\n",
       "      <td>NaN</td>\n",
       "      <td>2</td>\n",
       "      <td>30</td>\n",
       "      <td>0.5</td>\n",
       "    </tr>\n",
       "    <tr>\n",
       "      <th>2126</th>\n",
       "      <td>31762</td>\n",
       "      <td>3</td>\n",
       "      <td>0.887</td>\n",
       "      <td>1</td>\n",
       "      <td>1</td>\n",
       "      <td>no_enrollment</td>\n",
       "      <td>Primary School</td>\n",
       "      <td>NaN</td>\n",
       "      <td>3</td>\n",
       "      <td>NaN</td>\n",
       "      <td>Pvt Ltd</td>\n",
       "      <td>never</td>\n",
       "      <td>18</td>\n",
       "      <td>0.5</td>\n",
       "    </tr>\n",
       "    <tr>\n",
       "      <th>2127</th>\n",
       "      <td>7873</td>\n",
       "      <td>3</td>\n",
       "      <td>0.804</td>\n",
       "      <td>1</td>\n",
       "      <td>0</td>\n",
       "      <td>Full time course</td>\n",
       "      <td>High School</td>\n",
       "      <td>NaN</td>\n",
       "      <td>7</td>\n",
       "      <td>100-500</td>\n",
       "      <td>Public Sector</td>\n",
       "      <td>1</td>\n",
       "      <td>84</td>\n",
       "      <td>0.5</td>\n",
       "    </tr>\n",
       "    <tr>\n",
       "      <th>2128</th>\n",
       "      <td>12215</td>\n",
       "      <td>3</td>\n",
       "      <td>0.804</td>\n",
       "      <td>1</td>\n",
       "      <td>0</td>\n",
       "      <td>no_enrollment</td>\n",
       "      <td>Masters</td>\n",
       "      <td>STEM</td>\n",
       "      <td>15</td>\n",
       "      <td>10000+</td>\n",
       "      <td>Pvt Ltd</td>\n",
       "      <td>2</td>\n",
       "      <td>11</td>\n",
       "      <td>0.5</td>\n",
       "    </tr>\n",
       "  </tbody>\n",
       "</table>\n",
       "<p>21012 rows × 14 columns</p>\n",
       "</div>"
      ],
      "text/plain": [
       "      enrollee_id  city  city_development_index  gender  relevent_experience  \\\n",
       "0            8949     3                   0.920       1                    0   \n",
       "1           29725     1                   0.776       1                    1   \n",
       "2           11561     3                   0.624       2                    1   \n",
       "3           33241     1                   0.789       2                    1   \n",
       "4             666     0                   0.767       1                    0   \n",
       "...           ...   ...                     ...     ...                  ...   \n",
       "2124         1289     3                   0.920       1                    1   \n",
       "2125          195     3                   0.897       1                    0   \n",
       "2126        31762     3                   0.887       1                    1   \n",
       "2127         7873     3                   0.804       1                    0   \n",
       "2128        12215     3                   0.804       1                    0   \n",
       "\n",
       "     enrolled_university education_level major_discipline experience  \\\n",
       "0          no_enrollment        Graduate             STEM        >20   \n",
       "1          no_enrollment        Graduate             STEM         15   \n",
       "2       Full time course        Graduate             STEM          5   \n",
       "3                    NaN        Graduate  Business Degree         <1   \n",
       "4          no_enrollment         Masters             STEM        >20   \n",
       "...                  ...             ...              ...        ...   \n",
       "2124       no_enrollment        Graduate       Humanities         16   \n",
       "2125       no_enrollment         Masters             STEM         18   \n",
       "2126       no_enrollment  Primary School              NaN          3   \n",
       "2127    Full time course     High School              NaN          7   \n",
       "2128       no_enrollment         Masters             STEM         15   \n",
       "\n",
       "     company_size    company_type last_new_job  training_hours  target  \n",
       "0             NaN             NaN            1              36     1.0  \n",
       "1           50-99         Pvt Ltd           >4              47     0.0  \n",
       "2             NaN             NaN        never              83     0.0  \n",
       "3             NaN         Pvt Ltd        never              52     1.0  \n",
       "4           50-99  Funded Startup            4               8     0.0  \n",
       "...           ...             ...          ...             ...     ...  \n",
       "2124          NaN   Public Sector            4              15     0.5  \n",
       "2125          NaN             NaN            2              30     0.5  \n",
       "2126          NaN         Pvt Ltd        never              18     0.5  \n",
       "2127      100-500   Public Sector            1              84     0.5  \n",
       "2128       10000+         Pvt Ltd            2              11     0.5  \n",
       "\n",
       "[21012 rows x 14 columns]"
      ]
     },
     "execution_count": 30,
     "metadata": {},
     "output_type": "execute_result"
    }
   ],
   "source": [
    "df"
   ]
  },
  {
   "cell_type": "markdown",
   "id": "11733108",
   "metadata": {},
   "source": [
    "# enrolled university"
   ]
  },
  {
   "cell_type": "code",
   "execution_count": 31,
   "id": "58f3c1e4",
   "metadata": {},
   "outputs": [
    {
     "data": {
      "text/plain": [
       "no_enrollment       0.725300\n",
       "Full time course    0.197459\n",
       "Part time course    0.063345\n",
       "NaN                 0.013897\n",
       "Name: enrolled_university, dtype: float64"
      ]
     },
     "execution_count": 31,
     "metadata": {},
     "output_type": "execute_result"
    }
   ],
   "source": [
    "df.enrolled_university.value_counts(dropna=False,normalize=True)"
   ]
  },
  {
   "cell_type": "code",
   "execution_count": 32,
   "id": "3545d4cf",
   "metadata": {},
   "outputs": [
    {
     "data": {
      "text/plain": [
       "{'Full time course': 0, 'Part time course': 1, 'no_enrollment': 2, nan: 3}"
      ]
     },
     "execution_count": 32,
     "metadata": {},
     "output_type": "execute_result"
    }
   ],
   "source": [
    "le_enrolled_university = LabelEncoder().fit(df['enrolled_university'])\n",
    "df['enrolled_university'] = le_enrolled_university.transform(df['enrolled_university'])\n",
    "# Keep the record of labeling\n",
    "dict(zip(le_enrolled_university.classes_, le_enrolled_university.transform(le_enrolled_university.classes_)))"
   ]
  },
  {
   "cell_type": "code",
   "execution_count": 33,
   "id": "09324fe4",
   "metadata": {
    "scrolled": true
   },
   "outputs": [
    {
     "data": {
      "text/plain": [
       "<AxesSubplot:xlabel='enrolled_university', ylabel='count'>"
      ]
     },
     "execution_count": 33,
     "metadata": {},
     "output_type": "execute_result"
    },
    {
     "data": {
      "image/png": "[encoded data removed]",
      "text/plain": [
       "<Figure size 432x288 with 1 Axes>"
      ]
     },
     "metadata": {
      "needs_background": "light"
     },
     "output_type": "display_data"
    }
   ],
   "source": [
    "sns.countplot(x='enrolled_university',data=df)"
   ]
  },
  {
   "cell_type": "markdown",
   "id": "1f4d6fd3",
   "metadata": {},
   "source": [
    "# education_level"
   ]
  },
  {
   "cell_type": "code",
   "execution_count": 34,
   "id": "6e70353d",
   "metadata": {},
   "outputs": [
    {
     "data": {
      "text/plain": [
       "{'Graduate': 0,\n",
       " 'High School': 1,\n",
       " 'Masters': 2,\n",
       " 'Phd': 3,\n",
       " 'Primary School': 4,\n",
       " nan: 5}"
      ]
     },
     "execution_count": 34,
     "metadata": {},
     "output_type": "execute_result"
    }
   ],
   "source": [
    "le_education_level = LabelEncoder().fit(df['education_level'])\n",
    "df['education_level'] = le_education_level.transform(df['education_level'])\n",
    "# Keep the record of labeling\n",
    "dict(zip(le_education_level.classes_, le_education_level.transform(le_education_level.classes_)))"
   ]
  },
  {
   "cell_type": "code",
   "execution_count": 35,
   "id": "20f5e98f",
   "metadata": {
    "scrolled": true
   },
   "outputs": [
    {
     "data": {
      "text/html": [
       "<div>\n",
       "<style scoped>\n",
       "    .dataframe tbody tr th:only-of-type {\n",
       "        vertical-align: middle;\n",
       "    }\n",
       "\n",
       "    .dataframe tbody tr th {\n",
       "        vertical-align: top;\n",
       "    }\n",
       "\n",
       "    .dataframe thead th {\n",
       "        text-align: right;\n",
       "    }\n",
       "</style>\n",
       "<table border=\"1\" class=\"dataframe\">\n",
       "  <thead>\n",
       "    <tr style=\"text-align: right;\">\n",
       "      <th></th>\n",
       "      <th>enrollee_id</th>\n",
       "      <th>city</th>\n",
       "      <th>city_development_index</th>\n",
       "      <th>gender</th>\n",
       "      <th>relevent_experience</th>\n",
       "      <th>enrolled_university</th>\n",
       "      <th>education_level</th>\n",
       "      <th>major_discipline</th>\n",
       "      <th>experience</th>\n",
       "      <th>company_size</th>\n",
       "      <th>company_type</th>\n",
       "      <th>last_new_job</th>\n",
       "      <th>training_hours</th>\n",
       "      <th>target</th>\n",
       "    </tr>\n",
       "  </thead>\n",
       "  <tbody>\n",
       "    <tr>\n",
       "      <th>0</th>\n",
       "      <td>8949</td>\n",
       "      <td>3</td>\n",
       "      <td>0.920</td>\n",
       "      <td>1</td>\n",
       "      <td>0</td>\n",
       "      <td>2</td>\n",
       "      <td>0</td>\n",
       "      <td>STEM</td>\n",
       "      <td>&gt;20</td>\n",
       "      <td>NaN</td>\n",
       "      <td>NaN</td>\n",
       "      <td>1</td>\n",
       "      <td>36</td>\n",
       "      <td>1.0</td>\n",
       "    </tr>\n",
       "    <tr>\n",
       "      <th>1</th>\n",
       "      <td>29725</td>\n",
       "      <td>1</td>\n",
       "      <td>0.776</td>\n",
       "      <td>1</td>\n",
       "      <td>1</td>\n",
       "      <td>2</td>\n",
       "      <td>0</td>\n",
       "      <td>STEM</td>\n",
       "      <td>15</td>\n",
       "      <td>50-99</td>\n",
       "      <td>Pvt Ltd</td>\n",
       "      <td>&gt;4</td>\n",
       "      <td>47</td>\n",
       "      <td>0.0</td>\n",
       "    </tr>\n",
       "    <tr>\n",
       "      <th>2</th>\n",
       "      <td>11561</td>\n",
       "      <td>3</td>\n",
       "      <td>0.624</td>\n",
       "      <td>2</td>\n",
       "      <td>1</td>\n",
       "      <td>0</td>\n",
       "      <td>0</td>\n",
       "      <td>STEM</td>\n",
       "      <td>5</td>\n",
       "      <td>NaN</td>\n",
       "      <td>NaN</td>\n",
       "      <td>never</td>\n",
       "      <td>83</td>\n",
       "      <td>0.0</td>\n",
       "    </tr>\n",
       "    <tr>\n",
       "      <th>3</th>\n",
       "      <td>33241</td>\n",
       "      <td>1</td>\n",
       "      <td>0.789</td>\n",
       "      <td>2</td>\n",
       "      <td>1</td>\n",
       "      <td>3</td>\n",
       "      <td>0</td>\n",
       "      <td>Business Degree</td>\n",
       "      <td>&lt;1</td>\n",
       "      <td>NaN</td>\n",
       "      <td>Pvt Ltd</td>\n",
       "      <td>never</td>\n",
       "      <td>52</td>\n",
       "      <td>1.0</td>\n",
       "    </tr>\n",
       "    <tr>\n",
       "      <th>4</th>\n",
       "      <td>666</td>\n",
       "      <td>0</td>\n",
       "      <td>0.767</td>\n",
       "      <td>1</td>\n",
       "      <td>0</td>\n",
       "      <td>2</td>\n",
       "      <td>2</td>\n",
       "      <td>STEM</td>\n",
       "      <td>&gt;20</td>\n",
       "      <td>50-99</td>\n",
       "      <td>Funded Startup</td>\n",
       "      <td>4</td>\n",
       "      <td>8</td>\n",
       "      <td>0.0</td>\n",
       "    </tr>\n",
       "    <tr>\n",
       "      <th>...</th>\n",
       "      <td>...</td>\n",
       "      <td>...</td>\n",
       "      <td>...</td>\n",
       "      <td>...</td>\n",
       "      <td>...</td>\n",
       "      <td>...</td>\n",
       "      <td>...</td>\n",
       "      <td>...</td>\n",
       "      <td>...</td>\n",
       "      <td>...</td>\n",
       "      <td>...</td>\n",
       "      <td>...</td>\n",
       "      <td>...</td>\n",
       "      <td>...</td>\n",
       "    </tr>\n",
       "    <tr>\n",
       "      <th>2124</th>\n",
       "      <td>1289</td>\n",
       "      <td>3</td>\n",
       "      <td>0.920</td>\n",
       "      <td>1</td>\n",
       "      <td>1</td>\n",
       "      <td>2</td>\n",
       "      <td>0</td>\n",
       "      <td>Humanities</td>\n",
       "      <td>16</td>\n",
       "      <td>NaN</td>\n",
       "      <td>Public Sector</td>\n",
       "      <td>4</td>\n",
       "      <td>15</td>\n",
       "      <td>0.5</td>\n",
       "    </tr>\n",
       "    <tr>\n",
       "      <th>2125</th>\n",
       "      <td>195</td>\n",
       "      <td>3</td>\n",
       "      <td>0.897</td>\n",
       "      <td>1</td>\n",
       "      <td>0</td>\n",
       "      <td>2</td>\n",
       "      <td>2</td>\n",
       "      <td>STEM</td>\n",
       "      <td>18</td>\n",
       "      <td>NaN</td>\n",
       "      <td>NaN</td>\n",
       "      <td>2</td>\n",
       "      <td>30</td>\n",
       "      <td>0.5</td>\n",
       "    </tr>\n",
       "    <tr>\n",
       "      <th>2126</th>\n",
       "      <td>31762</td>\n",
       "      <td>3</td>\n",
       "      <td>0.887</td>\n",
       "      <td>1</td>\n",
       "      <td>1</td>\n",
       "      <td>2</td>\n",
       "      <td>4</td>\n",
       "      <td>NaN</td>\n",
       "      <td>3</td>\n",
       "      <td>NaN</td>\n",
       "      <td>Pvt Ltd</td>\n",
       "      <td>never</td>\n",
       "      <td>18</td>\n",
       "      <td>0.5</td>\n",
       "    </tr>\n",
       "    <tr>\n",
       "      <th>2127</th>\n",
       "      <td>7873</td>\n",
       "      <td>3</td>\n",
       "      <td>0.804</td>\n",
       "      <td>1</td>\n",
       "      <td>0</td>\n",
       "      <td>0</td>\n",
       "      <td>1</td>\n",
       "      <td>NaN</td>\n",
       "      <td>7</td>\n",
       "      <td>100-500</td>\n",
       "      <td>Public Sector</td>\n",
       "      <td>1</td>\n",
       "      <td>84</td>\n",
       "      <td>0.5</td>\n",
       "    </tr>\n",
       "    <tr>\n",
       "      <th>2128</th>\n",
       "      <td>12215</td>\n",
       "      <td>3</td>\n",
       "      <td>0.804</td>\n",
       "      <td>1</td>\n",
       "      <td>0</td>\n",
       "      <td>2</td>\n",
       "      <td>2</td>\n",
       "      <td>STEM</td>\n",
       "      <td>15</td>\n",
       "      <td>10000+</td>\n",
       "      <td>Pvt Ltd</td>\n",
       "      <td>2</td>\n",
       "      <td>11</td>\n",
       "      <td>0.5</td>\n",
       "    </tr>\n",
       "  </tbody>\n",
       "</table>\n",
       "<p>21012 rows × 14 columns</p>\n",
       "</div>"
      ],
      "text/plain": [
       "      enrollee_id  city  city_development_index  gender  relevent_experience  \\\n",
       "0            8949     3                   0.920       1                    0   \n",
       "1           29725     1                   0.776       1                    1   \n",
       "2           11561     3                   0.624       2                    1   \n",
       "3           33241     1                   0.789       2                    1   \n",
       "4             666     0                   0.767       1                    0   \n",
       "...           ...   ...                     ...     ...                  ...   \n",
       "2124         1289     3                   0.920       1                    1   \n",
       "2125          195     3                   0.897       1                    0   \n",
       "2126        31762     3                   0.887       1                    1   \n",
       "2127         7873     3                   0.804       1                    0   \n",
       "2128        12215     3                   0.804       1                    0   \n",
       "\n",
       "      enrolled_university  education_level major_discipline experience  \\\n",
       "0                       2                0             STEM        >20   \n",
       "1                       2                0             STEM         15   \n",
       "2                       0                0             STEM          5   \n",
       "3                       3                0  Business Degree         <1   \n",
       "4                       2                2             STEM        >20   \n",
       "...                   ...              ...              ...        ...   \n",
       "2124                    2                0       Humanities         16   \n",
       "2125                    2                2             STEM         18   \n",
       "2126                    2                4              NaN          3   \n",
       "2127                    0                1              NaN          7   \n",
       "2128                    2                2             STEM         15   \n",
       "\n",
       "     company_size    company_type last_new_job  training_hours  target  \n",
       "0             NaN             NaN            1              36     1.0  \n",
       "1           50-99         Pvt Ltd           >4              47     0.0  \n",
       "2             NaN             NaN        never              83     0.0  \n",
       "3             NaN         Pvt Ltd        never              52     1.0  \n",
       "4           50-99  Funded Startup            4               8     0.0  \n",
       "...           ...             ...          ...             ...     ...  \n",
       "2124          NaN   Public Sector            4              15     0.5  \n",
       "2125          NaN             NaN            2              30     0.5  \n",
       "2126          NaN         Pvt Ltd        never              18     0.5  \n",
       "2127      100-500   Public Sector            1              84     0.5  \n",
       "2128       10000+         Pvt Ltd            2              11     0.5  \n",
       "\n",
       "[21012 rows x 14 columns]"
      ]
     },
     "execution_count": 35,
     "metadata": {},
     "output_type": "execute_result"
    }
   ],
   "source": [
    "df"
   ]
  },
  {
   "cell_type": "markdown",
   "id": "5a380077",
   "metadata": {},
   "source": [
    "# company_size"
   ]
  },
  {
   "cell_type": "code",
   "execution_count": 36,
   "id": "8db2f36b",
   "metadata": {},
   "outputs": [
    {
     "data": {
      "text/plain": [
       "NaN          6294\n",
       "50-99        3421\n",
       "100-500      2885\n",
       "10000+       2235\n",
       "10/49        1640\n",
       "1000-4999    1471\n",
       "<10          1470\n",
       "500-999       965\n",
       "5000-9999     631\n",
       "Name: company_size, dtype: int64"
      ]
     },
     "execution_count": 36,
     "metadata": {},
     "output_type": "execute_result"
    }
   ],
   "source": [
    "df.company_size.value_counts( dropna=False)"
   ]
  },
  {
   "cell_type": "code",
   "execution_count": 37,
   "id": "5d064456",
   "metadata": {},
   "outputs": [],
   "source": [
    "df['company_size'].replace(['<10','10/49', '50-99', '100-500', '500-999', '1000-4999', '5000-9999', '10000+',],\n",
    "                             ['Startup','Small','Small','Medium','Medium','Large','Large','Large'],inplace=True)\n",
    "df['company_size'] = df['company_size'].fillna(df['company_size'].value_counts().index[0]) # inpute with mode\n",
    "CSizeLabelEncoder = LabelEncoder().fit(df['company_size'])\n",
    "CSizeList = CSizeLabelEncoder.classes_\n",
    "df['company_size'] = CSizeLabelEncoder.transform(df['company_size'])"
   ]
  },
  {
   "cell_type": "markdown",
   "id": "69723288",
   "metadata": {},
   "source": [
    "# experience"
   ]
  },
  {
   "cell_type": "code",
   "execution_count": 38,
   "id": "29e7f4c0",
   "metadata": {
    "scrolled": true
   },
   "outputs": [
    {
     "data": {
      "text/plain": [
       ">20    3650\n",
       "5      1573\n",
       "4      1524\n",
       "3      1470\n",
       "6      1333\n",
       "2      1202\n",
       "7      1139\n",
       "9      1089\n",
       "10     1081\n",
       "8       876\n",
       "11      747\n",
       "15      742\n",
       "14      641\n",
       "1       577\n",
       "16      573\n",
       "<1      572\n",
       "12      543\n",
       "13      452\n",
       "17      377\n",
       "19      332\n",
       "18      304\n",
       "20      165\n",
       "Name: experience, dtype: int64"
      ]
     },
     "execution_count": 38,
     "metadata": {},
     "output_type": "execute_result"
    }
   ],
   "source": [
    "df.experience.value_counts()"
   ]
  },
  {
   "cell_type": "code",
   "execution_count": 39,
   "id": "3badbdc6",
   "metadata": {},
   "outputs": [],
   "source": [
    "df['experience'].replace(['>20','<1'],[20,1],inplace=True)\n",
    "df['experience'].fillna(df['experience'].value_counts().index[0],inplace=True) # fillna with mode\n",
    "df['experience'] = [float(i) for i in df['experience']] # convert to float"
   ]
  },
  {
   "cell_type": "markdown",
   "id": "9ce5f4af",
   "metadata": {},
   "source": [
    "# company_type"
   ]
  },
  {
   "cell_type": "code",
   "execution_count": 40,
   "id": "967c5597",
   "metadata": {},
   "outputs": [
    {
     "data": {
      "text/plain": [
       "Pvt Ltd                10955\n",
       "NaN                     6503\n",
       "Funded Startup          1098\n",
       "Public Sector           1081\n",
       "Early Stage Startup      668\n",
       "NGO                      574\n",
       "Other                    133\n",
       "Name: company_type, dtype: int64"
      ]
     },
     "execution_count": 40,
     "metadata": {},
     "output_type": "execute_result"
    }
   ],
   "source": [
    "df.company_type.value_counts(dropna=False)"
   ]
  },
  {
   "cell_type": "code",
   "execution_count": 41,
   "id": "ca605fbc",
   "metadata": {},
   "outputs": [],
   "source": [
    "# fillna as other\n",
    "df['company_type'].fillna('Other' ,inplace=True)"
   ]
  },
  {
   "cell_type": "code",
   "execution_count": 42,
   "id": "910c0cdf",
   "metadata": {},
   "outputs": [],
   "source": [
    "le_company_type = LabelEncoder().fit(df['company_type'])\n",
    "df['company_type'] = le_company_type.transform(df['company_type'])\n",
    "\n"
   ]
  },
  {
   "cell_type": "markdown",
   "id": "75aa689b",
   "metadata": {},
   "source": [
    "# last_new_job"
   ]
  },
  {
   "cell_type": "code",
   "execution_count": 43,
   "id": "6c2c16f7",
   "metadata": {
    "scrolled": true
   },
   "outputs": [
    {
     "data": {
      "text/plain": [
       "1        8887\n",
       ">4       3632\n",
       "2        3231\n",
       "never    2597\n",
       "3        1154\n",
       "4        1147\n",
       "Name: last_new_job, dtype: int64"
      ]
     },
     "execution_count": 43,
     "metadata": {},
     "output_type": "execute_result"
    }
   ],
   "source": [
    "df.last_new_job.value_counts()"
   ]
  },
  {
   "cell_type": "code",
   "execution_count": 44,
   "id": "ab446638",
   "metadata": {},
   "outputs": [],
   "source": [
    "df['last_new_job'].replace(['>4','never'],['4','0'],inplace=True)\n",
    "df['last_new_job'].fillna(df['last_new_job'].value_counts().index[0],inplace=True)\n",
    "df['last_new_job'] = [float(i) for i in df['last_new_job']]"
   ]
  },
  {
   "cell_type": "markdown",
   "id": "985ab855",
   "metadata": {},
   "source": [
    "# major discipline"
   ]
  },
  {
   "cell_type": "code",
   "execution_count": 45,
   "id": "a70ce6f2",
   "metadata": {},
   "outputs": [
    {
     "data": {
      "text/plain": [
       "STEM               16103\n",
       "NaN                 2860\n",
       "Humanities           749\n",
       "Other                421\n",
       "Business Degree      364\n",
       "Arts                 270\n",
       "No Major             245\n",
       "Name: major_discipline, dtype: int64"
      ]
     },
     "execution_count": 45,
     "metadata": {},
     "output_type": "execute_result"
    }
   ],
   "source": [
    "df.major_discipline.value_counts( dropna=False)"
   ]
  },
  {
   "cell_type": "code",
   "execution_count": 46,
   "id": "ca78429b",
   "metadata": {},
   "outputs": [],
   "source": [
    "df['major_discipline'].fillna('other' ,inplace=True)"
   ]
  },
  {
   "cell_type": "code",
   "execution_count": 47,
   "id": "aed1116a",
   "metadata": {},
   "outputs": [],
   "source": [
    "\n",
    "le_major_discipline = LabelEncoder().fit(df['major_discipline'])\n",
    "df['major_discipline'] = le_major_discipline.transform(df['major_discipline'])"
   ]
  },
  {
   "cell_type": "code",
   "execution_count": 48,
   "id": "6d7d8cb7",
   "metadata": {},
   "outputs": [
    {
     "data": {
      "text/plain": [
       "enrollee_id                 int64\n",
       "city                        int32\n",
       "city_development_index    float64\n",
       "gender                      int32\n",
       "relevent_experience         int32\n",
       "enrolled_university         int32\n",
       "education_level             int32\n",
       "major_discipline            int32\n",
       "experience                float64\n",
       "company_size                int32\n",
       "company_type                int32\n",
       "last_new_job              float64\n",
       "training_hours              int64\n",
       "target                    float64\n",
       "dtype: object"
      ]
     },
     "execution_count": 48,
     "metadata": {},
     "output_type": "execute_result"
    }
   ],
   "source": [
    "df.dtypes"
   ]
  },
  {
   "cell_type": "code",
   "execution_count": 49,
   "id": "6093a74c",
   "metadata": {},
   "outputs": [],
   "source": [
    "#note that enroll id doesnt provide information to the target"
   ]
  },
  {
   "cell_type": "code",
   "execution_count": 50,
   "id": "4fcc7a01",
   "metadata": {},
   "outputs": [],
   "source": [
    "df = df.loc[:,df.columns != 'enrollee_id']"
   ]
  },
  {
   "cell_type": "code",
   "execution_count": 51,
   "id": "99431411",
   "metadata": {},
   "outputs": [
    {
     "data": {
      "text/html": [
       "<div>\n",
       "<style scoped>\n",
       "    .dataframe tbody tr th:only-of-type {\n",
       "        vertical-align: middle;\n",
       "    }\n",
       "\n",
       "    .dataframe tbody tr th {\n",
       "        vertical-align: top;\n",
       "    }\n",
       "\n",
       "    .dataframe thead th {\n",
       "        text-align: right;\n",
       "    }\n",
       "</style>\n",
       "<table border=\"1\" class=\"dataframe\">\n",
       "  <thead>\n",
       "    <tr style=\"text-align: right;\">\n",
       "      <th></th>\n",
       "      <th>city</th>\n",
       "      <th>city_development_index</th>\n",
       "      <th>gender</th>\n",
       "      <th>relevent_experience</th>\n",
       "      <th>enrolled_university</th>\n",
       "      <th>education_level</th>\n",
       "      <th>major_discipline</th>\n",
       "      <th>experience</th>\n",
       "      <th>company_size</th>\n",
       "      <th>company_type</th>\n",
       "      <th>last_new_job</th>\n",
       "      <th>training_hours</th>\n",
       "      <th>target</th>\n",
       "    </tr>\n",
       "  </thead>\n",
       "  <tbody>\n",
       "    <tr>\n",
       "      <th>0</th>\n",
       "      <td>3</td>\n",
       "      <td>0.920</td>\n",
       "      <td>1</td>\n",
       "      <td>0</td>\n",
       "      <td>2</td>\n",
       "      <td>0</td>\n",
       "      <td>5</td>\n",
       "      <td>20.0</td>\n",
       "      <td>2</td>\n",
       "      <td>3</td>\n",
       "      <td>1.0</td>\n",
       "      <td>36</td>\n",
       "      <td>1.0</td>\n",
       "    </tr>\n",
       "    <tr>\n",
       "      <th>1</th>\n",
       "      <td>1</td>\n",
       "      <td>0.776</td>\n",
       "      <td>1</td>\n",
       "      <td>1</td>\n",
       "      <td>2</td>\n",
       "      <td>0</td>\n",
       "      <td>5</td>\n",
       "      <td>15.0</td>\n",
       "      <td>2</td>\n",
       "      <td>5</td>\n",
       "      <td>4.0</td>\n",
       "      <td>47</td>\n",
       "      <td>0.0</td>\n",
       "    </tr>\n",
       "    <tr>\n",
       "      <th>2</th>\n",
       "      <td>3</td>\n",
       "      <td>0.624</td>\n",
       "      <td>2</td>\n",
       "      <td>1</td>\n",
       "      <td>0</td>\n",
       "      <td>0</td>\n",
       "      <td>5</td>\n",
       "      <td>5.0</td>\n",
       "      <td>2</td>\n",
       "      <td>3</td>\n",
       "      <td>0.0</td>\n",
       "      <td>83</td>\n",
       "      <td>0.0</td>\n",
       "    </tr>\n",
       "    <tr>\n",
       "      <th>3</th>\n",
       "      <td>1</td>\n",
       "      <td>0.789</td>\n",
       "      <td>2</td>\n",
       "      <td>1</td>\n",
       "      <td>3</td>\n",
       "      <td>0</td>\n",
       "      <td>1</td>\n",
       "      <td>1.0</td>\n",
       "      <td>2</td>\n",
       "      <td>5</td>\n",
       "      <td>0.0</td>\n",
       "      <td>52</td>\n",
       "      <td>1.0</td>\n",
       "    </tr>\n",
       "    <tr>\n",
       "      <th>4</th>\n",
       "      <td>0</td>\n",
       "      <td>0.767</td>\n",
       "      <td>1</td>\n",
       "      <td>0</td>\n",
       "      <td>2</td>\n",
       "      <td>2</td>\n",
       "      <td>5</td>\n",
       "      <td>20.0</td>\n",
       "      <td>2</td>\n",
       "      <td>1</td>\n",
       "      <td>4.0</td>\n",
       "      <td>8</td>\n",
       "      <td>0.0</td>\n",
       "    </tr>\n",
       "  </tbody>\n",
       "</table>\n",
       "</div>"
      ],
      "text/plain": [
       "   city  city_development_index  gender  relevent_experience  \\\n",
       "0     3                   0.920       1                    0   \n",
       "1     1                   0.776       1                    1   \n",
       "2     3                   0.624       2                    1   \n",
       "3     1                   0.789       2                    1   \n",
       "4     0                   0.767       1                    0   \n",
       "\n",
       "   enrolled_university  education_level  major_discipline  experience  \\\n",
       "0                    2                0                 5        20.0   \n",
       "1                    2                0                 5        15.0   \n",
       "2                    0                0                 5         5.0   \n",
       "3                    3                0                 1         1.0   \n",
       "4                    2                2                 5        20.0   \n",
       "\n",
       "   company_size  company_type  last_new_job  training_hours  target  \n",
       "0             2             3           1.0              36     1.0  \n",
       "1             2             5           4.0              47     0.0  \n",
       "2             2             3           0.0              83     0.0  \n",
       "3             2             5           0.0              52     1.0  \n",
       "4             2             1           4.0               8     0.0  "
      ]
     },
     "execution_count": 51,
     "metadata": {},
     "output_type": "execute_result"
    }
   ],
   "source": [
    "df.head()"
   ]
  },
  {
   "cell_type": "markdown",
   "id": "6fa772ae",
   "metadata": {},
   "source": [
    "## Train and Testing Split"
   ]
  },
  {
   "cell_type": "code",
   "execution_count": 52,
   "id": "f5f47f88",
   "metadata": {},
   "outputs": [],
   "source": [
    "from sklearn.model_selection import train_test_split\n",
    "\n",
    "X = df.loc[:, df.columns != 'target']\n",
    "y = df.loc[:, df.columns == 'target']\n",
    "X_train_rand, X_test_rand, y_train_rand, y_test_rand = train_test_split(X, y, test_size=0.2,random_state=42,\n",
    "                                                    shuffle=True)"
   ]
  },
  {
   "cell_type": "code",
   "execution_count": 53,
   "id": "cb382bf5",
   "metadata": {},
   "outputs": [],
   "source": [
    "from sklearn.model_selection import StratifiedShuffleSplit\n",
    "\n",
    "strat=StratifiedShuffleSplit(n_splits=1, test_size=0.5, random_state=42)\n",
    "\n",
    "for train_index,test_index in strat.split(df, df['education_level']):\n",
    "    strat_train  = df.iloc[train_index]\n",
    "    strat_test = df.iloc[test_index]"
   ]
  },
  {
   "cell_type": "code",
   "execution_count": 54,
   "id": "c729af64",
   "metadata": {},
   "outputs": [
    {
     "data": {
      "text/html": [
       "<div>\n",
       "<style scoped>\n",
       "    .dataframe tbody tr th:only-of-type {\n",
       "        vertical-align: middle;\n",
       "    }\n",
       "\n",
       "    .dataframe tbody tr th {\n",
       "        vertical-align: top;\n",
       "    }\n",
       "\n",
       "    .dataframe thead th {\n",
       "        text-align: right;\n",
       "    }\n",
       "</style>\n",
       "<table border=\"1\" class=\"dataframe\">\n",
       "  <thead>\n",
       "    <tr style=\"text-align: right;\">\n",
       "      <th></th>\n",
       "      <th>Original</th>\n",
       "      <th>Stratify</th>\n",
       "      <th>Random</th>\n",
       "      <th>stratfy_error%</th>\n",
       "      <th>random_error%</th>\n",
       "    </tr>\n",
       "  </thead>\n",
       "  <tbody>\n",
       "    <tr>\n",
       "      <th>0</th>\n",
       "      <td>0.612031</td>\n",
       "      <td>0.612031</td>\n",
       "      <td>0.612172</td>\n",
       "      <td>0.000000</td>\n",
       "      <td>0.000230</td>\n",
       "    </tr>\n",
       "    <tr>\n",
       "      <th>2</th>\n",
       "      <td>0.230916</td>\n",
       "      <td>0.230916</td>\n",
       "      <td>0.230293</td>\n",
       "      <td>0.000000</td>\n",
       "      <td>-0.002703</td>\n",
       "    </tr>\n",
       "    <tr>\n",
       "      <th>1</th>\n",
       "      <td>0.103798</td>\n",
       "      <td>0.103750</td>\n",
       "      <td>0.104051</td>\n",
       "      <td>-0.000459</td>\n",
       "      <td>0.002437</td>\n",
       "    </tr>\n",
       "    <tr>\n",
       "      <th>3</th>\n",
       "      <td>0.022225</td>\n",
       "      <td>0.022273</td>\n",
       "      <td>0.022369</td>\n",
       "      <td>0.002137</td>\n",
       "      <td>0.006418</td>\n",
       "    </tr>\n",
       "    <tr>\n",
       "      <th>4</th>\n",
       "      <td>0.015896</td>\n",
       "      <td>0.015896</td>\n",
       "      <td>0.016122</td>\n",
       "      <td>0.000000</td>\n",
       "      <td>0.014057</td>\n",
       "    </tr>\n",
       "    <tr>\n",
       "      <th>5</th>\n",
       "      <td>0.015134</td>\n",
       "      <td>0.015134</td>\n",
       "      <td>0.014992</td>\n",
       "      <td>0.000000</td>\n",
       "      <td>-0.009488</td>\n",
       "    </tr>\n",
       "  </tbody>\n",
       "</table>\n",
       "</div>"
      ],
      "text/plain": [
       "   Original  Stratify    Random  stratfy_error%  random_error%\n",
       "0  0.612031  0.612031  0.612172        0.000000       0.000230\n",
       "2  0.230916  0.230916  0.230293        0.000000      -0.002703\n",
       "1  0.103798  0.103750  0.104051       -0.000459       0.002437\n",
       "3  0.022225  0.022273  0.022369        0.002137       0.006418\n",
       "4  0.015896  0.015896  0.016122        0.000000       0.014057\n",
       "5  0.015134  0.015134  0.014992        0.000000      -0.009488"
      ]
     },
     "execution_count": 54,
     "metadata": {},
     "output_type": "execute_result"
    }
   ],
   "source": [
    "## compare the stratify vs random sampling from original proportions\n",
    "## stratified sampling has almost close to original proportion while the random is skewed\n",
    "\n",
    "orignial = pd.DataFrame(df.education_level.value_counts(normalize=True))\\\n",
    "                    .rename(columns={'education_level': 'Original'})\n",
    "\n",
    "stratify = pd.DataFrame(strat_train.education_level.value_counts(normalize=True))\\\n",
    "                    .rename(columns={'education_level': 'Stratify'})\n",
    "\n",
    "random =  pd.DataFrame(X_train_rand.education_level.value_counts(normalize=True))\\\n",
    "                    .rename(columns={'education_level': 'Random'})\n",
    "\n",
    "error_summary = pd.concat([orignial, stratify,random], axis=1)\n",
    "                                                                                                   \n",
    "error_summary['stratfy_error%'] = (error_summary['Stratify']- error_summary['Original'] )/ error_summary['Stratify']\n",
    "error_summary['random_error%'] = (error_summary['Random']- error_summary['Original'] )/ error_summary['Random']\n",
    "\n",
    "error_summary\n",
    "                    "
   ]
  },
  {
   "cell_type": "code",
   "execution_count": 55,
   "id": "2d5fd709",
   "metadata": {},
   "outputs": [],
   "source": [
    "df.target.value_counts()\n",
    "df = df[df.target != 0.5]#I want to see if people try to stay or leave, no 0.5"
   ]
  },
  {
   "cell_type": "code",
   "execution_count": 56,
   "id": "0d2aae80",
   "metadata": {},
   "outputs": [
    {
     "name": "stdout",
     "output_type": "stream",
     "text": [
      "0.0    0.750476\n",
      "1.0    0.249524\n",
      "Name: target, dtype: float64\n"
     ]
    }
   ],
   "source": [
    "print(df.target.value_counts(normalize=True))"
   ]
  },
  {
   "cell_type": "code",
   "execution_count": 57,
   "id": "44a77c5b",
   "metadata": {},
   "outputs": [],
   "source": [
    "X=df.loc[:, df.columns !='target']\n",
    "y=df.loc[:, df.columns =='target']\n",
    "oversample = SMOTE(random_state=42, sampling_strategy=0.6)\n",
    "X_smote, Y_smote = oversample.fit_resample(X,y)"
   ]
  },
  {
   "cell_type": "code",
   "execution_count": 58,
   "id": "c7146fd7",
   "metadata": {},
   "outputs": [],
   "source": [
    "from sklearn.model_selection import train_test_split\n",
    "X_train,X_test, y_train,y_test = train_test_split(X_smote, Y_smote, test_size=0.2,random_state=42, shuffle=True, stratify=Y_smote)"
   ]
  },
  {
   "cell_type": "code",
   "execution_count": 59,
   "id": "a976a069",
   "metadata": {},
   "outputs": [],
   "source": [
    "X_train.to_csv('X_train.csv',index=False)\n",
    "X_test.to_csv('X_test.csv',index=False)\n",
    "y_train.to_csv('y_train.csv',index=False)\n",
    "y_test.to_csv('y_test.csv',index=False)"
   ]
  },
  {
   "cell_type": "code",
   "execution_count": null,
   "id": "86bcd960",
   "metadata": {},
   "outputs": [],
   "source": []
  },
  {
   "cell_type": "code",
   "execution_count": 60,
   "id": "3343b010",
   "metadata": {},
   "outputs": [
    {
     "data": {
      "text/plain": [
       "Male_0.0      10209\n",
       "Male_1.0       3012\n",
       "Male_0.5       1460\n",
       "Female_0.0      912\n",
       "Female_1.0      326\n",
       "Other_0.0       141\n",
       "Female_0.5      137\n",
       "Other_1.0        50\n",
       "Other_0.5        24\n",
       "Name: stratefy_col, dtype: int64"
      ]
     },
     "execution_count": 60,
     "metadata": {},
     "output_type": "execute_result"
    }
   ],
   "source": [
    "df_raw['stratefy_col'] = df_raw['gender'] + '_' + df_raw['target'].apply(lambda x: str(x))\n",
    "df_raw.stratefy_col.value_counts()"
   ]
  },
  {
   "cell_type": "code",
   "execution_count": 61,
   "id": "5fc8a5da",
   "metadata": {},
   "outputs": [
    {
     "data": {
      "text/html": [
       "<style>#sk-container-id-1 {color: black;background-color: white;}#sk-container-id-1 pre{padding: 0;}#sk-container-id-1 div.sk-toggleable {background-color: white;}#sk-container-id-1 label.sk-toggleable__label {cursor: pointer;display: block;width: 100%;margin-bottom: 0;padding: 0.3em;box-sizing: border-box;text-align: center;}#sk-container-id-1 label.sk-toggleable__label-arrow:before {content: \"▸\";float: left;margin-right: 0.25em;color: #696969;}#sk-container-id-1 label.sk-toggleable__label-arrow:hover:before {color: black;}#sk-container-id-1 div.sk-estimator:hover label.sk-toggleable__label-arrow:before {color: black;}#sk-container-id-1 div.sk-toggleable__content {max-height: 0;max-width: 0;overflow: hidden;text-align: left;background-color: #f0f8ff;}#sk-container-id-1 div.sk-toggleable__content pre {margin: 0.2em;color: black;border-radius: 0.25em;background-color: #f0f8ff;}#sk-container-id-1 input.sk-toggleable__control:checked~div.sk-toggleable__content {max-height: 200px;max-width: 100%;overflow: auto;}#sk-container-id-1 input.sk-toggleable__control:checked~label.sk-toggleable__label-arrow:before {content: \"▾\";}#sk-container-id-1 div.sk-estimator input.sk-toggleable__control:checked~label.sk-toggleable__label {background-color: #d4ebff;}#sk-container-id-1 div.sk-label input.sk-toggleable__control:checked~label.sk-toggleable__label {background-color: #d4ebff;}#sk-container-id-1 input.sk-hidden--visually {border: 0;clip: rect(1px 1px 1px 1px);clip: rect(1px, 1px, 1px, 1px);height: 1px;margin: -1px;overflow: hidden;padding: 0;position: absolute;width: 1px;}#sk-container-id-1 div.sk-estimator {font-family: monospace;background-color: #f0f8ff;border: 1px dotted black;border-radius: 0.25em;box-sizing: border-box;margin-bottom: 0.5em;}#sk-container-id-1 div.sk-estimator:hover {background-color: #d4ebff;}#sk-container-id-1 div.sk-parallel-item::after {content: \"\";width: 100%;border-bottom: 1px solid gray;flex-grow: 1;}#sk-container-id-1 div.sk-label:hover label.sk-toggleable__label {background-color: #d4ebff;}#sk-container-id-1 div.sk-serial::before {content: \"\";position: absolute;border-left: 1px solid gray;box-sizing: border-box;top: 0;bottom: 0;left: 50%;z-index: 0;}#sk-container-id-1 div.sk-serial {display: flex;flex-direction: column;align-items: center;background-color: white;padding-right: 0.2em;padding-left: 0.2em;position: relative;}#sk-container-id-1 div.sk-item {position: relative;z-index: 1;}#sk-container-id-1 div.sk-parallel {display: flex;align-items: stretch;justify-content: center;background-color: white;position: relative;}#sk-container-id-1 div.sk-item::before, #sk-container-id-1 div.sk-parallel-item::before {content: \"\";position: absolute;border-left: 1px solid gray;box-sizing: border-box;top: 0;bottom: 0;left: 50%;z-index: -1;}#sk-container-id-1 div.sk-parallel-item {display: flex;flex-direction: column;z-index: 1;position: relative;background-color: white;}#sk-container-id-1 div.sk-parallel-item:first-child::after {align-self: flex-end;width: 50%;}#sk-container-id-1 div.sk-parallel-item:last-child::after {align-self: flex-start;width: 50%;}#sk-container-id-1 div.sk-parallel-item:only-child::after {width: 0;}#sk-container-id-1 div.sk-dashed-wrapped {border: 1px dashed gray;margin: 0 0.4em 0.5em 0.4em;box-sizing: border-box;padding-bottom: 0.4em;background-color: white;}#sk-container-id-1 div.sk-label label {font-family: monospace;font-weight: bold;display: inline-block;line-height: 1.2em;}#sk-container-id-1 div.sk-label-container {text-align: center;}#sk-container-id-1 div.sk-container {/* jupyter's `normalize.less` sets `[hidden] { display: none; }` but bootstrap.min.css set `[hidden] { display: none !important; }` so we also need the `!important` here to be able to override the default hidden behavior on the sphinx rendered scikit-learn.org. See: https://github.com/scikit-learn/scikit-learn/issues/21755 */display: inline-block !important;position: relative;}#sk-container-id-1 div.sk-text-repr-fallback {display: none;}</style><div id=\"sk-container-id-1\" class=\"sk-top-container\"><div class=\"sk-text-repr-fallback\"><pre>XGBClassifier(base_score=0.5, booster=&#x27;gbtree&#x27;, callbacks=None,\n",
       "              colsample_bylevel=1, colsample_bynode=1, colsample_bytree=1,\n",
       "              early_stopping_rounds=None, enable_categorical=False,\n",
       "              eval_metric=None, gamma=0, gpu_id=-1, grow_policy=&#x27;depthwise&#x27;,\n",
       "              importance_type=None, interaction_constraints=&#x27;&#x27;,\n",
       "              learning_rate=0.300000012, max_bin=256, max_cat_to_onehot=4,\n",
       "              max_delta_step=0, max_depth=6, max_leaves=0, min_child_weight=1,\n",
       "              missing=nan, monotone_constraints=&#x27;()&#x27;, n_estimators=100,\n",
       "              n_jobs=0, num_parallel_tree=1, predictor=&#x27;auto&#x27;, random_state=0,\n",
       "              reg_alpha=0, reg_lambda=1, ...)</pre><b>In a Jupyter environment, please rerun this cell to show the HTML representation or trust the notebook. <br />On GitHub, the HTML representation is unable to render, please try loading this page with nbviewer.org.</b></div><div class=\"sk-container\" hidden><div class=\"sk-item\"><div class=\"sk-estimator sk-toggleable\"><input class=\"sk-toggleable__control sk-hidden--visually\" id=\"sk-estimator-id-1\" type=\"checkbox\" checked><label for=\"sk-estimator-id-1\" class=\"sk-toggleable__label sk-toggleable__label-arrow\">XGBClassifier</label><div class=\"sk-toggleable__content\"><pre>XGBClassifier(base_score=0.5, booster=&#x27;gbtree&#x27;, callbacks=None,\n",
       "              colsample_bylevel=1, colsample_bynode=1, colsample_bytree=1,\n",
       "              early_stopping_rounds=None, enable_categorical=False,\n",
       "              eval_metric=None, gamma=0, gpu_id=-1, grow_policy=&#x27;depthwise&#x27;,\n",
       "              importance_type=None, interaction_constraints=&#x27;&#x27;,\n",
       "              learning_rate=0.300000012, max_bin=256, max_cat_to_onehot=4,\n",
       "              max_delta_step=0, max_depth=6, max_leaves=0, min_child_weight=1,\n",
       "              missing=nan, monotone_constraints=&#x27;()&#x27;, n_estimators=100,\n",
       "              n_jobs=0, num_parallel_tree=1, predictor=&#x27;auto&#x27;, random_state=0,\n",
       "              reg_alpha=0, reg_lambda=1, ...)</pre></div></div></div></div></div>"
      ],
      "text/plain": [
       "XGBClassifier(base_score=0.5, booster='gbtree', callbacks=None,\n",
       "              colsample_bylevel=1, colsample_bynode=1, colsample_bytree=1,\n",
       "              early_stopping_rounds=None, enable_categorical=False,\n",
       "              eval_metric=None, gamma=0, gpu_id=-1, grow_policy='depthwise',\n",
       "              importance_type=None, interaction_constraints='',\n",
       "              learning_rate=0.300000012, max_bin=256, max_cat_to_onehot=4,\n",
       "              max_delta_step=0, max_depth=6, max_leaves=0, min_child_weight=1,\n",
       "              missing=nan, monotone_constraints='()', n_estimators=100,\n",
       "              n_jobs=0, num_parallel_tree=1, predictor='auto', random_state=0,\n",
       "              reg_alpha=0, reg_lambda=1, ...)"
      ]
     },
     "execution_count": 61,
     "metadata": {},
     "output_type": "execute_result"
    }
   ],
   "source": [
    "from xgboost import XGBClassifier\n",
    "model = XGBClassifier()\n",
    "model.fit(X_train, y_train)"
   ]
  },
  {
   "cell_type": "code",
   "execution_count": 62,
   "id": "0a717b94",
   "metadata": {},
   "outputs": [],
   "source": [
    "y_pred = model.predict(X_test)\n",
    "predictions = [round(value) for value in y_pred]"
   ]
  },
  {
   "cell_type": "code",
   "execution_count": 63,
   "id": "c79ac449",
   "metadata": {},
   "outputs": [
    {
     "name": "stdout",
     "output_type": "stream",
     "text": [
      "Accuracy: 81.35%\n"
     ]
    }
   ],
   "source": [
    "from sklearn.metrics import accuracy_score\n",
    "\n",
    "# evaluate predictions\n",
    "accuracy = accuracy_score(y_test, predictions)\n",
    "print(\"Accuracy: %.2f%%\" % (accuracy * 100.0))"
   ]
  }
 ],
 "metadata": {
  "kernelspec": {
   "display_name": "Python 3 (ipykernel)",
   "language": "python",
   "name": "python3"
  },
  "language_info": {
   "codemirror_mode": {
    "name": "ipython",
    "version": 3
   },
   "file_extension": ".py",
   "mimetype": "text/x-python",
   "name": "python",
   "nbconvert_exporter": "python",
   "pygments_lexer": "ipython3",
   "version": "3.9.7"
  }
 },
 "nbformat": 4,
 "nbformat_minor": 5
}
